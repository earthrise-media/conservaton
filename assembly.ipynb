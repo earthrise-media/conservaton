{
 "cells": [
  {
   "cell_type": "code",
   "execution_count": 68,
   "metadata": {},
   "outputs": [],
   "source": [
    "import pandas as pd\n",
    "import numpy as np\n",
    "import rasterio"
   ]
  },
  {
   "cell_type": "code",
   "execution_count": 69,
   "metadata": {},
   "outputs": [],
   "source": [
    "properties = pd.read_pickle('data/properties.pkl')\n",
    "final = properties[[\"HUNT_BLOCK\", \"AREA\"]]\n",
    "final.columns = [\"block\", \"area\"]"
   ]
  },
  {
   "cell_type": "code",
   "execution_count": 70,
   "metadata": {},
   "outputs": [],
   "source": [
    "pop_rate = pd.read_pickle('data/pop.pkl')\n",
    "pop_rate[['pop_rate']]=pop_rate.groupby('block')[[\"population\", \"block\"]].pct_change()\n",
    "pop_rate = pop_rate.groupby('block')[[\"pop_rate\", \"block\"]].mean()\n",
    "final = final.merge(pop_rate, on=\"block\")"
   ]
  },
  {
   "cell_type": "code",
   "execution_count": 71,
   "metadata": {},
   "outputs": [],
   "source": [
    "population = pd.read_pickle('data/population.pkl')\n",
    "final = final.merge(population, on=\"block\")"
   ]
  },
  {
   "cell_type": "code",
   "execution_count": 72,
   "metadata": {},
   "outputs": [],
   "source": [
    "defor = pd.read_pickle('data/defor.pkl')\n",
    "defor_absolute = defor.groupby('block')[[\"hectares\", \"block\"]].sum()\n",
    "final = final.merge(defor_absolute, on=\"block\")\n",
    "final[\"defor_rate\"] = final[\"hectares\"]/(final[\"area\"] * 100)"
   ]
  },
  {
   "cell_type": "code",
   "execution_count": 73,
   "metadata": {},
   "outputs": [],
   "source": [
    "bio = pd.read_pickle('data/biodiversity.pkl')\n",
    "final = final.merge(bio, on=\"block\")\n",
    "final[\"bio_km\"] = final[\"bio\"] * final[\"area\"]"
   ]
  },
  {
   "cell_type": "code",
   "execution_count": 74,
   "metadata": {},
   "outputs": [],
   "source": [
    "forest = pd.read_pickle('data/forest.pkl')\n",
    "final = final.merge(forest, on=\"block\")\n",
    "final[\"forest_km\"] = final[\"forest\"] * final[\"area\"]\n",
    "final.columns = [\"block\", \"area\", \"pop_rate\", \"pop\", \"defor\", \"defor_rate\", \"bio_rate\", \"bio\", \"forest_rate\", \"forest\"]\n",
    "final.to_pickle('data/summary.pkl')"
   ]
  },
  {
   "cell_type": "code",
   "execution_count": 76,
   "metadata": {},
   "outputs": [
    {
     "data": {
      "text/html": [
       "<div>\n",
       "<style scoped>\n",
       "    .dataframe tbody tr th:only-of-type {\n",
       "        vertical-align: middle;\n",
       "    }\n",
       "\n",
       "    .dataframe tbody tr th {\n",
       "        vertical-align: top;\n",
       "    }\n",
       "\n",
       "    .dataframe thead th {\n",
       "        text-align: right;\n",
       "    }\n",
       "</style>\n",
       "<table border=\"1\" class=\"dataframe\">\n",
       "  <thead>\n",
       "    <tr style=\"text-align: right;\">\n",
       "      <th></th>\n",
       "      <th>block</th>\n",
       "      <th>area</th>\n",
       "      <th>pop_rate</th>\n",
       "      <th>pop</th>\n",
       "      <th>defor</th>\n",
       "      <th>defor_rate</th>\n",
       "      <th>bio_rate</th>\n",
       "      <th>bio</th>\n",
       "      <th>forest_rate</th>\n",
       "      <th>forest</th>\n",
       "    </tr>\n",
       "  </thead>\n",
       "  <tbody>\n",
       "    <tr>\n",
       "      <th>0</th>\n",
       "      <td>Chisomo</td>\n",
       "      <td>3611</td>\n",
       "      <td>0.096783</td>\n",
       "      <td>3186</td>\n",
       "      <td>1349</td>\n",
       "      <td>0.003736</td>\n",
       "      <td>0.231687</td>\n",
       "      <td>836.623504</td>\n",
       "      <td>0.793872</td>\n",
       "      <td>2866.672016</td>\n",
       "    </tr>\n",
       "    <tr>\n",
       "      <th>1</th>\n",
       "      <td>South Luano</td>\n",
       "      <td>4868</td>\n",
       "      <td>0.157858</td>\n",
       "      <td>9888</td>\n",
       "      <td>5476</td>\n",
       "      <td>0.011249</td>\n",
       "      <td>0.297851</td>\n",
       "      <td>1449.939789</td>\n",
       "      <td>0.777195</td>\n",
       "      <td>3783.386419</td>\n",
       "    </tr>\n",
       "    <tr>\n",
       "      <th>2</th>\n",
       "      <td>North Luano</td>\n",
       "      <td>3530</td>\n",
       "      <td>0.222406</td>\n",
       "      <td>4271</td>\n",
       "      <td>1196</td>\n",
       "      <td>0.003388</td>\n",
       "      <td>0.199082</td>\n",
       "      <td>702.759053</td>\n",
       "      <td>0.701608</td>\n",
       "      <td>2476.676777</td>\n",
       "    </tr>\n",
       "    <tr>\n",
       "      <th>3</th>\n",
       "      <td>Nyalugwe</td>\n",
       "      <td>1159</td>\n",
       "      <td>0.098850</td>\n",
       "      <td>703</td>\n",
       "      <td>245</td>\n",
       "      <td>0.002114</td>\n",
       "      <td>0.228568</td>\n",
       "      <td>264.910623</td>\n",
       "      <td>0.887068</td>\n",
       "      <td>1028.111932</td>\n",
       "    </tr>\n",
       "    <tr>\n",
       "      <th>4</th>\n",
       "      <td>Rufunsa</td>\n",
       "      <td>3231</td>\n",
       "      <td>0.151469</td>\n",
       "      <td>43518</td>\n",
       "      <td>4957</td>\n",
       "      <td>0.015342</td>\n",
       "      <td>0.422559</td>\n",
       "      <td>1365.287591</td>\n",
       "      <td>0.727912</td>\n",
       "      <td>2351.884851</td>\n",
       "    </tr>\n",
       "    <tr>\n",
       "      <th>5</th>\n",
       "      <td>Luembe</td>\n",
       "      <td>3134</td>\n",
       "      <td>0.099045</td>\n",
       "      <td>1373</td>\n",
       "      <td>1093</td>\n",
       "      <td>0.003488</td>\n",
       "      <td>0.246199</td>\n",
       "      <td>771.586621</td>\n",
       "      <td>0.765784</td>\n",
       "      <td>2399.966045</td>\n",
       "    </tr>\n",
       "  </tbody>\n",
       "</table>\n",
       "</div>"
      ],
      "text/plain": [
       "         block  area  pop_rate    pop  defor  defor_rate  bio_rate  \\\n",
       "0      Chisomo  3611  0.096783   3186   1349    0.003736  0.231687   \n",
       "1  South Luano  4868  0.157858   9888   5476    0.011249  0.297851   \n",
       "2  North Luano  3530  0.222406   4271   1196    0.003388  0.199082   \n",
       "3     Nyalugwe  1159  0.098850    703    245    0.002114  0.228568   \n",
       "4      Rufunsa  3231  0.151469  43518   4957    0.015342  0.422559   \n",
       "5       Luembe  3134  0.099045   1373   1093    0.003488  0.246199   \n",
       "\n",
       "           bio  forest_rate       forest  \n",
       "0   836.623504     0.793872  2866.672016  \n",
       "1  1449.939789     0.777195  3783.386419  \n",
       "2   702.759053     0.701608  2476.676777  \n",
       "3   264.910623     0.887068  1028.111932  \n",
       "4  1365.287591     0.727912  2351.884851  \n",
       "5   771.586621     0.765784  2399.966045  "
      ]
     },
     "execution_count": 76,
     "metadata": {},
     "output_type": "execute_result"
    }
   ],
   "source": [
    "final"
   ]
  },
  {
   "cell_type": "code",
   "execution_count": 75,
   "metadata": {},
   "outputs": [],
   "source": [
    "src = rasterio.open('data/10S_030E.tif')\n",
    "# pyplot.imshow(src.read(1), cmap='pink')\n",
    "# pyplot.show()\n",
    "\n",
    "# with rasterio.Env():\n",
    "\n",
    "#     # Write an array as a raster band to a new 8-bit file. For\n",
    "#     # the new file's profile, we start with the profile of the source\n",
    "#     profile = src.profile\n",
    "\n",
    "#     # And then change the band count to 1, set the\n",
    "#     # dtype to uint8, and specify LZW compression.\n",
    "#     profile.update(\n",
    "#         dtype=rasterio.uint8,\n",
    "#         count=1)\n",
    "\n",
    "#     with rasterio.open('data/10S_030E.tif', 'w', **profile) as dst:\n",
    "#         dst.write(src.read(1).astype(rasterio.uint8), 1)"
   ]
  }
 ],
 "metadata": {
  "kernelspec": {
   "display_name": "env",
   "language": "python",
   "name": "env"
  },
  "language_info": {
   "codemirror_mode": {
    "name": "ipython",
    "version": 3
   },
   "file_extension": ".py",
   "mimetype": "text/x-python",
   "name": "python",
   "nbconvert_exporter": "python",
   "pygments_lexer": "ipython3",
   "version": "3.7.6"
  }
 },
 "nbformat": 4,
 "nbformat_minor": 4
}
